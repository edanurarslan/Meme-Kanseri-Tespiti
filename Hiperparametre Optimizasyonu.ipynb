{
 "cells": [
  {
   "cell_type": "markdown",
   "id": "d04b8b53-ac59-48a2-a41d-110a2948eec6",
   "metadata": {},
   "source": [
    "#### *4) Hiperparametre Optimizasyonu*"
   ]
  },
  {
   "cell_type": "markdown",
   "id": "056105ce-e916-47fe-a0ef-47e2a5d1873d",
   "metadata": {},
   "source": [
    "Hiperparametre optimizasyonu, bir modelin performansını artırmak amacıyla, modelin belirli parametrelerinin (hiperparametreler) en iyi kombinasyonunu bulma sürecidir. GridSearchCV ve RandomizedSearchCV, bu amaçla yaygın olarak kullanılan iki yöntemdir."
   ]
  },
  {
   "cell_type": "markdown",
   "id": "69fe2a27-e455-4fbf-b1e3-256ad6e4953a",
   "metadata": {},
   "source": [
    "**Hiperparametre Optimizasyon Süreci:**\n",
    "\n",
    "***Hiperparametrelerin İncelenmesi:***\n",
    "\n",
    "Her makine öğrenmesi modelinin performansını etkileyen bir dizi hiperparametre vardır. \n",
    "\n",
    "Örneğin:\n",
    "\n",
    "SVM: C, kernel, gamma gibi hiperparametreler.\n",
    "Random Forest: n_estimators, max_depth, min_samples_split, min_samples_leaf gibi hiperparametreler.\n",
    "XGBoost: n_estimators, learning_rate, max_depth, subsample, colsample_bytree gibi hiperparametreler.\n",
    "\n",
    "***GridSearchCV veya RandomizedSearchCV ile Optimizasyon:***\n",
    "\n",
    "GridSearchCV: Tüm hiperparametre kombinasyonlarını denemek için kullanılır. Daha kapsamlıdır, ancak işlem süresi uzun olabilir.\n",
    "RandomizedSearchCV: Belirli bir sayıda rastgele hiperparametre kombinasyonu dener. Daha hızlıdır, ancak optimum sonucu kaçırma olasılığı vardır.\n",
    "\n",
    "(BELKİ SİLİNEBİLİR)\n",
    "(XGBOOST ve random forest İÇİN OPTİMİZASYON YAPILDI\n",
    "AMA SEÇİLEN MODEL İÇİN YAPILSA DAHA İYİ OLUR!!!!!\n",
    "\n",
    "belki diğer modeller için de yapılabilir!!!)"
   ]
  },
  {
   "cell_type": "markdown",
   "id": "67abf24d-c25c-4d29-953f-7db77a82c566",
   "metadata": {},
   "source": [
    "**Gerekli kütüphane içe aktarımı ve veri seti okuması :**"
   ]
  },
  {
   "cell_type": "code",
   "execution_count": 5,
   "id": "fcf31528-949f-4fd8-9beb-7baafde23c53",
   "metadata": {},
   "outputs": [],
   "source": [
    "import pandas as pd\n",
    "import numpy as np\n",
    "import matplotlib.pyplot as plt\n",
    "import seaborn as sns\n",
    "\n",
    "# Veri setini yükleme\n",
    "df = pd.read_csv('breast-cancer.csv')"
   ]
  },
  {
   "cell_type": "code",
   "execution_count": 28,
   "id": "6a2ad9a7-d2c1-4b2e-bffc-053e4b3da028",
   "metadata": {},
   "outputs": [],
   "source": [
    "from sklearn.model_selection import train_test_split, cross_val_score\n",
    "from sklearn.preprocessing import StandardScaler\n",
    "from sklearn.svm import SVC\n",
    "from sklearn.ensemble import RandomForestClassifier\n",
    "from xgboost import XGBClassifier\n",
    "from sklearn.metrics import accuracy_score, classification_report, confusion_matrix"
   ]
  },
  {
   "cell_type": "markdown",
   "id": "8d073692-39b9-476f-87da-4e92f7f9f814",
   "metadata": {},
   "source": [
    "**Verilerin test/eğitim olarak ayrılması ve ölçeklendirilmesi :**"
   ]
  },
  {
   "cell_type": "code",
   "execution_count": 9,
   "id": "aa470fb2-2450-4bf5-83ac-6d908f49d8b0",
   "metadata": {},
   "outputs": [],
   "source": [
    "# Bağımlı ve bağımsız değişkenlerin seçimi\n",
    "X = df.drop(columns=['id', 'diagnosis'])  # id sütunu çıkarıldı, diagnosis hedef değişken olarak belirlendi\n",
    "y = df['diagnosis']  # hedef değişken\n",
    "\n",
    "# Veri setini eğitim ve test olarak ayırma\n",
    "X_train, X_test, y_train, y_test = train_test_split(X, y, test_size=0.3, random_state=42)\n",
    "\n",
    "# Özellikleri ölçeklendirme\n",
    "scaler = StandardScaler()\n",
    "X_train = scaler.fit_transform(X_train)\n",
    "X_test = scaler.transform(X_test)"
   ]
  },
  {
   "cell_type": "markdown",
   "id": "8aa87f2c-dcc8-4369-87bc-2ba291ad3010",
   "metadata": {},
   "source": [
    "**Örnek optimizasyon : XGBoost**"
   ]
  },
  {
   "cell_type": "markdown",
   "id": "1ebbfacc-70db-4536-9d0c-a7e249a077e0",
   "metadata": {},
   "source": [
    "*İlk model :*"
   ]
  },
  {
   "cell_type": "code",
   "execution_count": 13,
   "id": "dea5d639-bdb3-4432-a614-3f6b760dcacb",
   "metadata": {},
   "outputs": [
    {
     "name": "stdout",
     "output_type": "stream",
     "text": [
      "XGBoost Doğruluk Skoru: 0.956140350877193\n",
      "              precision    recall  f1-score   support\n",
      "\n",
      "           0       0.96      0.97      0.97        71\n",
      "           1       0.95      0.93      0.94        43\n",
      "\n",
      "    accuracy                           0.96       114\n",
      "   macro avg       0.96      0.95      0.95       114\n",
      "weighted avg       0.96      0.96      0.96       114\n",
      "\n"
     ]
    }
   ],
   "source": [
    "#XGBoost\n",
    "\n",
    "# 'diagnosis' sütununu sayısal verilere dönüştürme\n",
    "df['diagnosis'] = df['diagnosis'].map({'M': 1, 'B': 0})\n",
    "\n",
    "# Hedef değişkenlerin yeniden tanımlanması\n",
    "y = df['diagnosis']\n",
    "\n",
    "# Veri setini yeniden ayırma\n",
    "X_train, X_test, y_train, y_test = train_test_split(X, y, test_size=0.2, random_state=42)\n",
    "\n",
    "# Model eğitimi ve tahmin adımlarını tekrarlama\n",
    "xgb_model = XGBClassifier(random_state=42)\n",
    "xgb_model.fit(X_train, y_train)\n",
    "\n",
    "# Tahmin ve değerlendirme\n",
    "y_pred_xgb = xgb_model.predict(X_test)\n",
    "accuracy_xgb = accuracy_score(y_test, y_pred_xgb)\n",
    "print(\"XGBoost Doğruluk Skoru:\", accuracy_xgb)\n",
    "print(classification_report(y_test, y_pred_xgb))"
   ]
  },
  {
   "cell_type": "markdown",
   "id": "1ccafde0-6da3-48ca-b26b-fa8c6ae750e7",
   "metadata": {},
   "source": [
    "*Optimize edilmiş model :*"
   ]
  },
  {
   "cell_type": "code",
   "execution_count": 35,
   "id": "1954f859-a0f2-40bb-ba68-97b85f44a397",
   "metadata": {},
   "outputs": [
    {
     "name": "stdout",
     "output_type": "stream",
     "text": [
      "Fitting 5 folds for each of 50 candidates, totalling 250 fits\n",
      "En iyi XGBoost hiperparametreleri:  {'subsample': 0.8, 'n_estimators': 200, 'max_depth': 5, 'learning_rate': 0.2, 'colsample_bytree': 0.7}\n",
      "En iyi XGBoost doğruluk skoru:  0.9802197802197803\n"
     ]
    }
   ],
   "source": [
    "from sklearn.model_selection import GridSearchCV, RandomizedSearchCV\n",
    "# Örnek: XGBoost Hiperparametre Optimizasyonu\n",
    "\n",
    "# Hiperparametreler için bir grid oluşturma\n",
    "xgb_param_grid = {\n",
    "    'n_estimators': [100, 200, 300],\n",
    "    'learning_rate': [0.01, 0.1, 0.2],\n",
    "    'max_depth': [3, 5, 7],\n",
    "    'subsample': [0.7, 0.8, 0.9],\n",
    "    'colsample_bytree': [0.7, 0.8, 0.9]\n",
    "}\n",
    "\n",
    "# RandomizedSearchCV ile optimizasyon\n",
    "xgb_random_search = RandomizedSearchCV(estimator=xgb_model, param_distributions=xgb_param_grid, n_iter=50, cv=5, n_jobs=-1, verbose=2, random_state=42)\n",
    "xgb_random_search.fit(X_train, y_train)\n",
    "\n",
    "# En iyi hiperparametreler\n",
    "print(\"En iyi XGBoost hiperparametreleri: \", xgb_random_search.best_params_)\n",
    "print(\"En iyi XGBoost doğruluk skoru: \", xgb_random_search.best_score_)"
   ]
  },
  {
   "cell_type": "markdown",
   "id": "6d840381-055c-435e-8c13-7d0cde69d538",
   "metadata": {},
   "source": [
    "*Açıklamalar:*\n",
    "\n",
    "rf_param_grid ve xgb_param_grid: Modelin hiperparametrelerini belirlemek için kullanılan grid (kılavuz).\n",
    "\n",
    "best_params_: En iyi performansı gösteren hiperparametreler.\n",
    "\n",
    "best_score_: Hiperparametre optimizasyonu sonucu elde edilen en iyi doğruluk skoru.\n",
    "\n",
    "*Optimum Modelin Belirlenmesi:*\n",
    "\n",
    "Hiperparametre optimizasyonu tamamlandıktan sonra, en iyi hiperparametreler ve buna bağlı olarak elde edilen en iyi model performansı belirlenir. Bu aşamadan sonra, en iyi performansı gösteren model ile tahminler yapılabilir ve modelin genel performansı daha da değerlendirilebilir.\n",
    "\n",
    "(SİLİNEBİLİR)"
   ]
  },
  {
   "cell_type": "code",
   "execution_count": 11,
   "id": "22a92097-d227-484d-ad0b-970414b1ff8b",
   "metadata": {},
   "outputs": [
    {
     "name": "stdout",
     "output_type": "stream",
     "text": [
      "SVM Doğruluk Skoru: 0.9766081871345029\n",
      "              precision    recall  f1-score   support\n",
      "\n",
      "           B       0.98      0.98      0.98       108\n",
      "           M       0.97      0.97      0.97        63\n",
      "\n",
      "    accuracy                           0.98       171\n",
      "   macro avg       0.97      0.97      0.97       171\n",
      "weighted avg       0.98      0.98      0.98       171\n",
      "\n"
     ]
    }
   ],
   "source": [
    "#Destek Vektör Makineleri (SVM)\n",
    "\n",
    "svm_model = SVC()\n",
    "svm_model.fit(X_train, y_train)\n",
    "\n",
    "# Tahmin ve değerlendirme\n",
    "y_pred_svm = svm_model.predict(X_test)\n",
    "accuracy_svm = accuracy_score(y_test, y_pred_svm)\n",
    "print(\"SVM Doğruluk Skoru:\", accuracy_svm)\n",
    "print(classification_report(y_test, y_pred_svm))"
   ]
  },
  {
   "cell_type": "code",
   "execution_count": 20,
   "id": "43281abc-53f0-4aa2-aed9-cbbd4543683c",
   "metadata": {},
   "outputs": [
    {
     "name": "stdout",
     "output_type": "stream",
     "text": [
      "Fitting 5 folds for each of 64 candidates, totalling 320 fits\n"
     ]
    },
    {
     "name": "stderr",
     "output_type": "stream",
     "text": [
      "\n",
      "KeyboardInterrupt\n",
      "\n"
     ]
    }
   ],
   "source": [
    "from sklearn.model_selection import GridSearchCV\n",
    "\n",
    "# Hiperparametreler için bir grid oluşturma\n",
    "svm_param_grid = {\n",
    "    'C': [0.1, 1, 10, 100],\n",
    "    'gamma': [1, 0.1, 0.01, 0.001],\n",
    "    'kernel': ['linear', 'rbf', 'poly', 'sigmoid']\n",
    "}\n",
    "\n",
    "# GridSearchCV ile optimizasyon\n",
    "svm_grid_search = GridSearchCV(estimator=svm_model, param_grid=svm_param_grid, cv=5, n_jobs=-1, verbose=2)\n",
    "svm_grid_search.fit(X_train, y_train)\n",
    "\n",
    "# En iyi hiperparametreler\n",
    "print(\"En iyi SVM hiperparametreleri: \", svm_grid_search.best_params_)\n",
    "print(\"En iyi SVM doğruluk skoru: \", svm_grid_search.best_score_)\n",
    "\n",
    "# En iyi model ile tahmin yapma\n",
    "y_pred_svm_optimized = svm_grid_search.best_estimator_.predict(X_test)\n",
    "accuracy_svm_optimized = accuracy_score(y_test, y_pred_svm_optimized)\n",
    "print(\"Optimize edilmiş SVM Doğruluk Skoru:\", accuracy_svm_optimized)\n",
    "print(classification_report(y_test, y_pred_svm_optimized))"
   ]
  },
  {
   "cell_type": "code",
   "execution_count": null,
   "id": "10ac713e-e462-4b0e-80ca-e7ed254c171d",
   "metadata": {},
   "outputs": [],
   "source": []
  }
 ],
 "metadata": {
  "kernelspec": {
   "display_name": "Python 3 (ipykernel)",
   "language": "python",
   "name": "python3"
  },
  "language_info": {
   "codemirror_mode": {
    "name": "ipython",
    "version": 3
   },
   "file_extension": ".py",
   "mimetype": "text/x-python",
   "name": "python",
   "nbconvert_exporter": "python",
   "pygments_lexer": "ipython3",
   "version": "3.12.4"
  }
 },
 "nbformat": 4,
 "nbformat_minor": 5
}
