{
 "cells": [
  {
   "cell_type": "markdown",
   "id": "9c430e96-cbdc-41d8-8c9a-83b283c23041",
   "metadata": {},
   "source": [
    "#### *3) Model Seçimi ve Eğitimi*"
   ]
  },
  {
   "cell_type": "markdown",
   "id": "d90222ab-0839-4cf2-9d6c-36dea9c4fbf4",
   "metadata": {},
   "source": [
    "**Veri setinin okunması ve kütüphanelerin içe aktarımı :**"
   ]
  },
  {
   "cell_type": "code",
   "execution_count": 16,
   "id": "c19066f9-deae-4b71-b599-3b537c437a3a",
   "metadata": {},
   "outputs": [],
   "source": [
    "import pandas as pd\n",
    "import numpy as np\n",
    "import matplotlib.pyplot as plt\n",
    "import seaborn as sns\n",
    "from sklearn.metrics import accuracy_score, classification_report, confusion_matrix\n",
    "\n",
    "df = pd.read_csv('breast-cancer.csv')"
   ]
  },
  {
   "cell_type": "markdown",
   "id": "3cc0a408-3157-4f8e-912c-a4f72fef6f2b",
   "metadata": {},
   "source": [
    "##### Kullanılan modeller : \n",
    "\n",
    "1) Destek Vektör Makineleri (SVM)\n",
    "2) Rastgele Ormanlar (Random Forest)\n",
    "3) XGBoost\n",
    "4) Karar Ağaçları (Decision Tree)\n",
    "5) K-En Yakın Komşu (KNN)\n",
    "6) Naive Bayes"
   ]
  },
  {
   "cell_type": "markdown",
   "id": "2f6d1754-f4e7-4e8d-a32b-d645e7ca1457",
   "metadata": {},
   "source": [
    "**Veri setini hazırlama ve ölçeklendirme(normalizasyon) :**"
   ]
  },
  {
   "cell_type": "code",
   "execution_count": 19,
   "id": "6a478d5d-4880-479d-a592-92724fe6009f",
   "metadata": {},
   "outputs": [],
   "source": [
    "from sklearn.model_selection import train_test_split, cross_val_score\n",
    "from sklearn.preprocessing import StandardScaler\n",
    "\n",
    "# Bağımlı ve bağımsız değişkenlerin seçimi\n",
    "X = df.drop(columns=['id', 'diagnosis'])  # id sütunu çıkarıldı, diagnosis hedef değişken olarak belirlendi\n",
    "y = df['diagnosis']  # hedef değişken\n",
    "\n",
    "# Veri setini eğitim ve test olarak ayırma\n",
    "X_train, X_test, y_train, y_test = train_test_split(X, y, test_size=0.2, random_state=42)\n",
    "\n",
    "# Özellikleri ölçeklendirme\n",
    "scaler = StandardScaler()\n",
    "X_train = scaler.fit_transform(X_train)\n",
    "X_test = scaler.transform(X_test)"
   ]
  },
  {
   "cell_type": "markdown",
   "id": "3add97f0-4a3f-4d08-8e78-356079e2d807",
   "metadata": {},
   "source": [
    "**Test seti : %20**\n",
    "**Eğitim seti : %80**"
   ]
  },
  {
   "cell_type": "markdown",
   "id": "0c1899d6-6fd9-49d3-9bf0-af72d96ba7ad",
   "metadata": {},
   "source": [
    "**Modellerin eğitilmesi ve performanslarının değerlendirilmesi :**"
   ]
  },
  {
   "cell_type": "code",
   "execution_count": 22,
   "id": "7aa5c915-b865-4622-b2ab-d957e5d871d2",
   "metadata": {},
   "outputs": [
    {
     "name": "stdout",
     "output_type": "stream",
     "text": [
      "SVM Doğruluk Skoru: 0.9824561403508771\n",
      "              precision    recall  f1-score   support\n",
      "\n",
      "           B       0.97      1.00      0.99        71\n",
      "           M       1.00      0.95      0.98        43\n",
      "\n",
      "    accuracy                           0.98       114\n",
      "   macro avg       0.99      0.98      0.98       114\n",
      "weighted avg       0.98      0.98      0.98       114\n",
      "\n"
     ]
    }
   ],
   "source": [
    "from sklearn.svm import SVC\n",
    "#Destek Vektör Makineleri (SVM)\n",
    "\n",
    "svm_model = SVC()\n",
    "svm_model.fit(X_train, y_train)\n",
    "\n",
    "# Tahmin ve değerlendirme\n",
    "y_pred_svm = svm_model.predict(X_test)\n",
    "accuracy_svm = accuracy_score(y_test, y_pred_svm)\n",
    "print(\"SVM Doğruluk Skoru:\", accuracy_svm)\n",
    "print(classification_report(y_test, y_pred_svm))"
   ]
  },
  {
   "cell_type": "code",
   "execution_count": 23,
   "id": "0d61f929-37f0-4734-8094-9907b492daa6",
   "metadata": {},
   "outputs": [
    {
     "name": "stdout",
     "output_type": "stream",
     "text": [
      "Random Forest Doğruluk Skoru: 0.9649122807017544\n",
      "              precision    recall  f1-score   support\n",
      "\n",
      "           B       0.96      0.99      0.97        71\n",
      "           M       0.98      0.93      0.95        43\n",
      "\n",
      "    accuracy                           0.96       114\n",
      "   macro avg       0.97      0.96      0.96       114\n",
      "weighted avg       0.97      0.96      0.96       114\n",
      "\n"
     ]
    }
   ],
   "source": [
    "from sklearn.ensemble import RandomForestClassifier\n",
    "#Rastgele Ormanlar (Random Forest)\n",
    "\n",
    "rf_model = RandomForestClassifier()\n",
    "rf_model.fit(X_train, y_train)\n",
    "\n",
    "# Tahmin ve değerlendirme\n",
    "y_pred_rf = rf_model.predict(X_test)\n",
    "accuracy_rf = accuracy_score(y_test, y_pred_rf)\n",
    "print(\"Random Forest Doğruluk Skoru:\", accuracy_rf)\n",
    "print(classification_report(y_test, y_pred_rf))"
   ]
  },
  {
   "cell_type": "code",
   "execution_count": 26,
   "id": "43a8bad9-8fb1-49df-bf85-f0da147fba33",
   "metadata": {},
   "outputs": [
    {
     "name": "stdout",
     "output_type": "stream",
     "text": [
      "XGBoost Doğruluk Skoru: 0.956140350877193\n",
      "              precision    recall  f1-score   support\n",
      "\n",
      "           0       0.96      0.97      0.97        71\n",
      "           1       0.95      0.93      0.94        43\n",
      "\n",
      "    accuracy                           0.96       114\n",
      "   macro avg       0.96      0.95      0.95       114\n",
      "weighted avg       0.96      0.96      0.96       114\n",
      "\n"
     ]
    }
   ],
   "source": [
    "from xgboost import XGBClassifier\n",
    "#XGBoost\n",
    "\n",
    "# 'diagnosis' sütununu sayısal verilere dönüştürme\n",
    "df['diagnosis'] = df['diagnosis'].map({'M': 1, 'B': 0})\n",
    "\n",
    "# Hedef değişkenlerin yeniden tanımlanması\n",
    "y = df['diagnosis']\n",
    "\n",
    "# Veri setini yeniden ayırma\n",
    "X_train, X_test, y_train, y_test = train_test_split(X, y, test_size=0.2, random_state=42)\n",
    "\n",
    "# Model eğitimi ve tahmin adımlarını tekrarlama\n",
    "xgb_model = XGBClassifier(random_state=42)\n",
    "xgb_model.fit(X_train, y_train)\n",
    "\n",
    "# Tahmin ve değerlendirme\n",
    "y_pred_xgb = xgb_model.predict(X_test)\n",
    "accuracy_xgb = accuracy_score(y_test, y_pred_xgb)\n",
    "print(\"XGBoost Doğruluk Skoru:\", accuracy_xgb)\n",
    "print(classification_report(y_test, y_pred_xgb))"
   ]
  },
  {
   "cell_type": "code",
   "execution_count": 27,
   "id": "3f70782a-9007-4e95-bad3-fe64ef7c656a",
   "metadata": {},
   "outputs": [
    {
     "name": "stdout",
     "output_type": "stream",
     "text": [
      "Decision Tree Doğruluk Skoru: 0.9473684210526315\n",
      "              precision    recall  f1-score   support\n",
      "\n",
      "           0       0.96      0.96      0.96        71\n",
      "           1       0.93      0.93      0.93        43\n",
      "\n",
      "    accuracy                           0.95       114\n",
      "   macro avg       0.94      0.94      0.94       114\n",
      "weighted avg       0.95      0.95      0.95       114\n",
      "\n"
     ]
    }
   ],
   "source": [
    "from sklearn.tree import DecisionTreeClassifier\n",
    "#Karar Ağaçları (Decision Tree)\n",
    "\n",
    "dt_model = DecisionTreeClassifier(random_state=42)\n",
    "dt_model.fit(X_train, y_train)\n",
    "\n",
    "# Tahmin ve değerlendirme\n",
    "y_pred_dt = dt_model.predict(X_test)\n",
    "accuracy_dt = accuracy_score(y_test, y_pred_dt)\n",
    "print(\"Decision Tree Doğruluk Skoru:\", accuracy_dt)\n",
    "print(classification_report(y_test, y_pred_dt))"
   ]
  },
  {
   "cell_type": "code",
   "execution_count": 29,
   "id": "16bdf479-30bf-45b2-9374-09846911e245",
   "metadata": {},
   "outputs": [
    {
     "name": "stdout",
     "output_type": "stream",
     "text": [
      "KNN Doğruluk Skoru: 0.956140350877193\n",
      "              precision    recall  f1-score   support\n",
      "\n",
      "           0       0.93      1.00      0.97        71\n",
      "           1       1.00      0.88      0.94        43\n",
      "\n",
      "    accuracy                           0.96       114\n",
      "   macro avg       0.97      0.94      0.95       114\n",
      "weighted avg       0.96      0.96      0.96       114\n",
      "\n"
     ]
    }
   ],
   "source": [
    "from sklearn.neighbors import KNeighborsClassifier\n",
    "#K-En Yakın Komşu (KNN)\n",
    "\n",
    "knn_model = KNeighborsClassifier()\n",
    "knn_model.fit(X_train, y_train)\n",
    "\n",
    "# Tahmin ve değerlendirme\n",
    "y_pred_knn = knn_model.predict(X_test)\n",
    "accuracy_knn = accuracy_score(y_test, y_pred_knn)\n",
    "print(\"KNN Doğruluk Skoru:\", accuracy_knn)\n",
    "print(classification_report(y_test, y_pred_knn))"
   ]
  },
  {
   "cell_type": "code",
   "execution_count": 30,
   "id": "9034649a-a6fa-4678-bef8-ba77f2a2ae09",
   "metadata": {},
   "outputs": [
    {
     "name": "stdout",
     "output_type": "stream",
     "text": [
      "Naive Bayes Doğruluk Skoru: 0.9736842105263158\n",
      "              precision    recall  f1-score   support\n",
      "\n",
      "           0       0.96      1.00      0.98        71\n",
      "           1       1.00      0.93      0.96        43\n",
      "\n",
      "    accuracy                           0.97       114\n",
      "   macro avg       0.98      0.97      0.97       114\n",
      "weighted avg       0.97      0.97      0.97       114\n",
      "\n"
     ]
    }
   ],
   "source": [
    "from sklearn.naive_bayes import GaussianNB\n",
    "#Naive Bayes\n",
    "\n",
    "nb_model = GaussianNB()\n",
    "nb_model.fit(X_train, y_train)\n",
    "\n",
    "# Tahmin ve değerlendirme\n",
    "y_pred_nb = nb_model.predict(X_test)\n",
    "accuracy_nb = accuracy_score(y_test, y_pred_nb)\n",
    "print(\"Naive Bayes Doğruluk Skoru:\", accuracy_nb)\n",
    "print(classification_report(y_test, y_pred_nb))"
   ]
  },
  {
   "cell_type": "markdown",
   "id": "50317607-ce14-4a8f-8d6b-eb949d157592",
   "metadata": {},
   "source": [
    "**Modellerin doğruluk skorlarının ve diğer metri̇klerinin karşılaştırılması :**"
   ]
  },
  {
   "cell_type": "code",
   "execution_count": 32,
   "id": "b6488b21-d9cd-45cb-8f3e-39fd5ddade5b",
   "metadata": {},
   "outputs": [
    {
     "name": "stderr",
     "output_type": "stream",
     "text": [
      "C:\\Users\\edana\\AppData\\Local\\Temp\\ipykernel_21344\\908359293.py:15: FutureWarning: \n",
      "\n",
      "Passing `palette` without assigning `hue` is deprecated and will be removed in v0.14.0. Assign the `x` variable to `hue` and set `legend=False` for the same effect.\n",
      "\n",
      "  sns.barplot(x=scores_df.index, y=scores_df['Accuracy'], palette='viridis')\n"
     ]
    },
    {
     "data": {
      "image/png": "[encoded data removed]",
      "text/plain": [
       "<Figure size 1000x500 with 1 Axes>"
      ]
     },
     "metadata": {},
     "output_type": "display_data"
    }
   ],
   "source": [
    "model_scores = {\n",
    "    'SVM': accuracy_svm,\n",
    "    'Random Forest': accuracy_rf,\n",
    "    'XGBoost': accuracy_xgb,\n",
    "    'Decision Tree': accuracy_dt,\n",
    "    'KNN': accuracy_knn,\n",
    "    'Naive Bayes': accuracy_nb,\n",
    "}\n",
    "\n",
    "# Sonuçları sıralı şekilde görselleştirme\n",
    "scores_df = pd.DataFrame.from_dict(model_scores, orient='index', columns=['Accuracy'])\n",
    "scores_df = scores_df.sort_values(by='Accuracy', ascending=False)\n",
    "\n",
    "plt.figure(figsize=(10, 5))\n",
    "sns.barplot(x=scores_df.index, y=scores_df['Accuracy'], palette='viridis')\n",
    "plt.title('Modellerin Doğruluk Skorları Karşılaştırması')\n",
    "plt.ylabel('Doğruluk Skoru')\n",
    "plt.xlabel('Model')\n",
    "\n",
    "# Y ekseni aralığını daraltma\n",
    "plt.ylim(0.9, 1.0)\n",
    "\n",
    "plt.show()"
   ]
  },
  {
   "cell_type": "markdown",
   "id": "98ac3a31-9268-4b7b-95dd-20d3e75ce7ce",
   "metadata": {},
   "source": [
    "## SEÇİLEN MODEL : SVM"
   ]
  },
  {
   "cell_type": "code",
   "execution_count": null,
   "id": "ff47ad11-52ca-4b70-9ecf-214ba0bc0056",
   "metadata": {},
   "outputs": [],
   "source": []
  },
  {
   "cell_type": "code",
   "execution_count": null,
   "id": "0e7e52a7-d044-4ac5-b7f6-c4f629e0667a",
   "metadata": {},
   "outputs": [],
   "source": []
  }
 ],
 "metadata": {
  "kernelspec": {
   "display_name": "Python 3 (ipykernel)",
   "language": "python",
   "name": "python3"
  },
  "language_info": {
   "codemirror_mode": {
    "name": "ipython",
    "version": 3
   },
   "file_extension": ".py",
   "mimetype": "text/x-python",
   "name": "python",
   "nbconvert_exporter": "python",
   "pygments_lexer": "ipython3",
   "version": "3.12.4"
  }
 },
 "nbformat": 4,
 "nbformat_minor": 5
}
