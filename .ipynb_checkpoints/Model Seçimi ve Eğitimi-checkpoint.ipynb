{
 "cells": [
  {
   "cell_type": "markdown",
   "id": "9c430e96-cbdc-41d8-8c9a-83b283c23041",
   "metadata": {},
   "source": [
    "#### *3) Model Seçimi ve Eğitimi*"
   ]
  },
  {
   "cell_type": "markdown",
   "id": "fd732096-73c8-42db-843c-099d73f028e1",
   "metadata": {},
   "source": [
    "Model seçimi ve eğitimi süreci, çeşitli makine öğrenmesi algoritmalarının veri seti üzerinde eğitilmesi, performanslarının değerlendirilmesi ve en iyi sonuç veren modelin seçilmesi aşamalarını içerir. (ÇALIŞMAK İÇİN KALSIN SİLİNECEK)"
   ]
  },
  {
   "cell_type": "code",
   "execution_count": 1,
   "id": "b51d305d-3134-4cb5-aa07-65ddadf6422c",
   "metadata": {},
   "outputs": [],
   "source": [
    "#KODLARIN AÇIKLAMASI VE YORUMU YAZILACAK\n",
    "\n",
    "#düzenlenecek 3"
   ]
  },
  {
   "cell_type": "markdown",
   "id": "d90222ab-0839-4cf2-9d6c-36dea9c4fbf4",
   "metadata": {},
   "source": [
    "**Veri setinin okunması ve kütüphanelerin içe aktarımı :**"
   ]
  },
  {
   "cell_type": "code",
   "execution_count": 4,
   "id": "c19066f9-deae-4b71-b599-3b537c437a3a",
   "metadata": {},
   "outputs": [],
   "source": [
    "import pandas as pd\n",
    "import numpy as np\n",
    "import matplotlib.pyplot as plt\n",
    "import seaborn as sns\n",
    "\n",
    "df = pd.read_csv('breast-cancer.csv')"
   ]
  },
  {
   "cell_type": "markdown",
   "id": "3cc0a408-3157-4f8e-912c-a4f72fef6f2b",
   "metadata": {},
   "source": [
    "Model Seçimi ve Eğitimi\n",
    "Bu aşamada, aşağıdaki modelleri kullanacağız:\n",
    "\n",
    "1)Destek Vektör Makineleri (SVM)\n",
    "\n",
    "2)Rastgele Ormanlar (Random Forest)\n",
    "\n",
    "3)XGBoost\n",
    "\n",
    "4)Karar Ağaçları (Decision Tree)\n",
    "\n",
    "5)K-En Yakın Komşu (KNN)\n",
    "\n",
    "6)Naive Bayes"
   ]
  },
  {
   "cell_type": "markdown",
   "id": "92f7293c-c81f-4dd4-9242-b55ee60071e1",
   "metadata": {},
   "source": [
    "**Gerekli kütüphanelerin içe aktarılması :**"
   ]
  },
  {
   "cell_type": "code",
   "execution_count": 7,
   "id": "280536ec-84c6-4094-8904-9c330637b30f",
   "metadata": {},
   "outputs": [],
   "source": [
    "from sklearn.model_selection import train_test_split, cross_val_score\n",
    "from sklearn.preprocessing import StandardScaler\n",
    "from sklearn.svm import SVC\n",
    "from sklearn.ensemble import RandomForestClassifier\n",
    "from xgboost import XGBClassifier\n",
    "from sklearn.tree import DecisionTreeClassifier\n",
    "from sklearn.neighbors import KNeighborsClassifier\n",
    "from sklearn.naive_bayes import GaussianNB\n",
    "from sklearn.metrics import accuracy_score, classification_report, confusion_matrix"
   ]
  },
  {
   "cell_type": "markdown",
   "id": "2f6d1754-f4e7-4e8d-a32b-d645e7ca1457",
   "metadata": {},
   "source": [
    "**Veri setini hazırlama ve ölçeklendirme :**"
   ]
  },
  {
   "cell_type": "code",
   "execution_count": 9,
   "id": "6a478d5d-4880-479d-a592-92724fe6009f",
   "metadata": {},
   "outputs": [],
   "source": [
    "# Bağımlı ve bağımsız değişkenlerin seçimi\n",
    "X = df.drop(columns=['id', 'diagnosis'])  # id sütunu çıkarıldı, diagnosis hedef değişken olarak belirlendi\n",
    "y = df['diagnosis']  # hedef değişken\n",
    "\n",
    "# Veri setini eğitim ve test olarak ayırma\n",
    "X_train, X_test, y_train, y_test = train_test_split(X, y, test_size=0.3, random_state=42)\n",
    "\n",
    "# Özellikleri ölçeklendirme\n",
    "scaler = StandardScaler()\n",
    "X_train = scaler.fit_transform(X_train)\n",
    "X_test = scaler.transform(X_test)"
   ]
  },
  {
   "cell_type": "markdown",
   "id": "3add97f0-4a3f-4d08-8e78-356079e2d807",
   "metadata": {},
   "source": [
    "%30 test %70 eğitim verisi (SİLİNECEK SADECE AÇIKLAMA)\n",
    "\n",
    "test_size arttırılıp azaltılabilir"
   ]
  },
  {
   "cell_type": "markdown",
   "id": "0c1899d6-6fd9-49d3-9bf0-af72d96ba7ad",
   "metadata": {},
   "source": [
    "**Modellerin eğitilmesi ve performanslarının değerlendirilmesi :**"
   ]
  },
  {
   "cell_type": "code",
   "execution_count": 12,
   "id": "7aa5c915-b865-4622-b2ab-d957e5d871d2",
   "metadata": {},
   "outputs": [
    {
     "name": "stdout",
     "output_type": "stream",
     "text": [
      "SVM Doğruluk Skoru: 0.9766081871345029\n",
      "              precision    recall  f1-score   support\n",
      "\n",
      "           B       0.98      0.98      0.98       108\n",
      "           M       0.97      0.97      0.97        63\n",
      "\n",
      "    accuracy                           0.98       171\n",
      "   macro avg       0.97      0.97      0.97       171\n",
      "weighted avg       0.98      0.98      0.98       171\n",
      "\n"
     ]
    }
   ],
   "source": [
    "#Destek Vektör Makineleri (SVM)\n",
    "\n",
    "svm_model = SVC()\n",
    "svm_model.fit(X_train, y_train)\n",
    "\n",
    "# Tahmin ve değerlendirme\n",
    "y_pred_svm = svm_model.predict(X_test)\n",
    "accuracy_svm = accuracy_score(y_test, y_pred_svm)\n",
    "print(\"SVM Doğruluk Skoru:\", accuracy_svm)\n",
    "print(classification_report(y_test, y_pred_svm))"
   ]
  },
  {
   "cell_type": "markdown",
   "id": "5adf8fe8-598e-46a8-b093-4230bcd5e95c",
   "metadata": {},
   "source": [
    "Precision: Modelin doğru pozitif tahminlerinin tüm pozitif tahminlere oranı.\n",
    "\n",
    "Recall (Sensitivity): Modelin doğru pozitif tahminlerinin tüm gerçek pozitiflere oranı.\n",
    "\n",
    "F1 Score: Precision ve Recall'un harmonik ortalaması. Dengesiz veri setlerinde kullanışlıdır.\n",
    "\n",
    "(BURA DA SİLİNEBİLİR YA DA KISALTILABİLİR)"
   ]
  },
  {
   "cell_type": "code",
   "execution_count": 14,
   "id": "0d61f929-37f0-4734-8094-9907b492daa6",
   "metadata": {},
   "outputs": [
    {
     "name": "stdout",
     "output_type": "stream",
     "text": [
      "Random Forest Doğruluk Skoru: 0.9707602339181286\n",
      "              precision    recall  f1-score   support\n",
      "\n",
      "           B       0.96      0.99      0.98       108\n",
      "           M       0.98      0.94      0.96        63\n",
      "\n",
      "    accuracy                           0.97       171\n",
      "   macro avg       0.97      0.96      0.97       171\n",
      "weighted avg       0.97      0.97      0.97       171\n",
      "\n"
     ]
    }
   ],
   "source": [
    "#Rastgele Ormanlar (Random Forest)\n",
    "\n",
    "rf_model = RandomForestClassifier(random_state=42)\n",
    "rf_model.fit(X_train, y_train)\n",
    "\n",
    "# Tahmin ve değerlendirme\n",
    "y_pred_rf = rf_model.predict(X_test)\n",
    "accuracy_rf = accuracy_score(y_test, y_pred_rf)\n",
    "print(\"Random Forest Doğruluk Skoru:\", accuracy_rf)\n",
    "print(classification_report(y_test, y_pred_rf))"
   ]
  },
  {
   "cell_type": "code",
   "execution_count": 15,
   "id": "43a8bad9-8fb1-49df-bf85-f0da147fba33",
   "metadata": {},
   "outputs": [
    {
     "name": "stdout",
     "output_type": "stream",
     "text": [
      "XGBoost Doğruluk Skoru: 0.956140350877193\n",
      "              precision    recall  f1-score   support\n",
      "\n",
      "           0       0.96      0.97      0.97        71\n",
      "           1       0.95      0.93      0.94        43\n",
      "\n",
      "    accuracy                           0.96       114\n",
      "   macro avg       0.96      0.95      0.95       114\n",
      "weighted avg       0.96      0.96      0.96       114\n",
      "\n"
     ]
    }
   ],
   "source": [
    "#XGBoost\n",
    "\n",
    "# 'diagnosis' sütununu sayısal verilere dönüştürme\n",
    "df['diagnosis'] = df['diagnosis'].map({'M': 1, 'B': 0})\n",
    "\n",
    "# Hedef değişkenlerin yeniden tanımlanması\n",
    "y = df['diagnosis']\n",
    "\n",
    "# Veri setini yeniden ayırma\n",
    "X_train, X_test, y_train, y_test = train_test_split(X, y, test_size=0.2, random_state=42)\n",
    "\n",
    "# Model eğitimi ve tahmin adımlarını tekrarlama\n",
    "xgb_model = XGBClassifier(random_state=42)\n",
    "xgb_model.fit(X_train, y_train)\n",
    "\n",
    "# Tahmin ve değerlendirme\n",
    "y_pred_xgb = xgb_model.predict(X_test)\n",
    "accuracy_xgb = accuracy_score(y_test, y_pred_xgb)\n",
    "print(\"XGBoost Doğruluk Skoru:\", accuracy_xgb)\n",
    "print(classification_report(y_test, y_pred_xgb))"
   ]
  },
  {
   "cell_type": "code",
   "execution_count": 16,
   "id": "3f70782a-9007-4e95-bad3-fe64ef7c656a",
   "metadata": {},
   "outputs": [
    {
     "name": "stdout",
     "output_type": "stream",
     "text": [
      "Decision Tree Doğruluk Skoru: 0.9473684210526315\n",
      "              precision    recall  f1-score   support\n",
      "\n",
      "           0       0.96      0.96      0.96        71\n",
      "           1       0.93      0.93      0.93        43\n",
      "\n",
      "    accuracy                           0.95       114\n",
      "   macro avg       0.94      0.94      0.94       114\n",
      "weighted avg       0.95      0.95      0.95       114\n",
      "\n"
     ]
    }
   ],
   "source": [
    "#Karar Ağaçları (Decision Tree)\n",
    "\n",
    "dt_model = DecisionTreeClassifier(random_state=42)\n",
    "dt_model.fit(X_train, y_train)\n",
    "\n",
    "# Tahmin ve değerlendirme\n",
    "y_pred_dt = dt_model.predict(X_test)\n",
    "accuracy_dt = accuracy_score(y_test, y_pred_dt)\n",
    "print(\"Decision Tree Doğruluk Skoru:\", accuracy_dt)\n",
    "print(classification_report(y_test, y_pred_dt))"
   ]
  },
  {
   "cell_type": "code",
   "execution_count": 17,
   "id": "16bdf479-30bf-45b2-9374-09846911e245",
   "metadata": {},
   "outputs": [
    {
     "name": "stdout",
     "output_type": "stream",
     "text": [
      "KNN Doğruluk Skoru: 0.956140350877193\n",
      "              precision    recall  f1-score   support\n",
      "\n",
      "           0       0.93      1.00      0.97        71\n",
      "           1       1.00      0.88      0.94        43\n",
      "\n",
      "    accuracy                           0.96       114\n",
      "   macro avg       0.97      0.94      0.95       114\n",
      "weighted avg       0.96      0.96      0.96       114\n",
      "\n"
     ]
    }
   ],
   "source": [
    "#K-En Yakın Komşu (KNN)\n",
    "\n",
    "knn_model = KNeighborsClassifier()\n",
    "knn_model.fit(X_train, y_train)\n",
    "\n",
    "# Tahmin ve değerlendirme\n",
    "y_pred_knn = knn_model.predict(X_test)\n",
    "accuracy_knn = accuracy_score(y_test, y_pred_knn)\n",
    "print(\"KNN Doğruluk Skoru:\", accuracy_knn)\n",
    "print(classification_report(y_test, y_pred_knn))"
   ]
  },
  {
   "cell_type": "code",
   "execution_count": 19,
   "id": "9034649a-a6fa-4678-bef8-ba77f2a2ae09",
   "metadata": {},
   "outputs": [
    {
     "name": "stdout",
     "output_type": "stream",
     "text": [
      "Naive Bayes Doğruluk Skoru: 0.9736842105263158\n",
      "              precision    recall  f1-score   support\n",
      "\n",
      "           0       0.96      1.00      0.98        71\n",
      "           1       1.00      0.93      0.96        43\n",
      "\n",
      "    accuracy                           0.97       114\n",
      "   macro avg       0.98      0.97      0.97       114\n",
      "weighted avg       0.97      0.97      0.97       114\n",
      "\n"
     ]
    }
   ],
   "source": [
    "#Naive Bayes\n",
    "\n",
    "nb_model = GaussianNB()\n",
    "nb_model.fit(X_train, y_train)\n",
    "\n",
    "# Tahmin ve değerlendirme\n",
    "y_pred_nb = nb_model.predict(X_test)\n",
    "accuracy_nb = accuracy_score(y_test, y_pred_nb)\n",
    "print(\"Naive Bayes Doğruluk Skoru:\", accuracy_nb)\n",
    "print(classification_report(y_test, y_pred_nb))"
   ]
  },
  {
   "cell_type": "markdown",
   "id": "50317607-ce14-4a8f-8d6b-eb949d157592",
   "metadata": {},
   "source": [
    "**Modellerin doğruluk skorlarının ve diğer metri̇klerinin karşılaştırılması :**"
   ]
  },
  {
   "cell_type": "code",
   "execution_count": 21,
   "id": "b6488b21-d9cd-45cb-8f3e-39fd5ddade5b",
   "metadata": {},
   "outputs": [
    {
     "name": "stderr",
     "output_type": "stream",
     "text": [
      "C:\\Users\\edana\\AppData\\Local\\Temp\\ipykernel_21196\\908359293.py:15: FutureWarning: \n",
      "\n",
      "Passing `palette` without assigning `hue` is deprecated and will be removed in v0.14.0. Assign the `x` variable to `hue` and set `legend=False` for the same effect.\n",
      "\n",
      "  sns.barplot(x=scores_df.index, y=scores_df['Accuracy'], palette='viridis')\n"
     ]
    },
    {
     "data": {
      "image/png": "[encoded data removed]",
      "text/plain": [
       "<Figure size 1000x500 with 1 Axes>"
      ]
     },
     "metadata": {},
     "output_type": "display_data"
    }
   ],
   "source": [
    "model_scores = {\n",
    "    'SVM': accuracy_svm,\n",
    "    'Random Forest': accuracy_rf,\n",
    "    'XGBoost': accuracy_xgb,\n",
    "    'Decision Tree': accuracy_dt,\n",
    "    'KNN': accuracy_knn,\n",
    "    'Naive Bayes': accuracy_nb,\n",
    "}\n",
    "\n",
    "# Sonuçları sıralı şekilde görselleştirme\n",
    "scores_df = pd.DataFrame.from_dict(model_scores, orient='index', columns=['Accuracy'])\n",
    "scores_df = scores_df.sort_values(by='Accuracy', ascending=False)\n",
    "\n",
    "plt.figure(figsize=(10, 5))\n",
    "sns.barplot(x=scores_df.index, y=scores_df['Accuracy'], palette='viridis')\n",
    "plt.title('Modellerin Doğruluk Skorları Karşılaştırması')\n",
    "plt.ylabel('Doğruluk Skoru')\n",
    "plt.xlabel('Model')\n",
    "\n",
    "# Y ekseni aralığını daraltma\n",
    "plt.ylim(0.9, 1.0)\n",
    "\n",
    "plt.show()"
   ]
  },
  {
   "cell_type": "markdown",
   "id": "7778a047-6182-418f-b85a-10a89e18c40f",
   "metadata": {},
   "source": [
    "Model eğitim ve seçim süreci, farklı makine öğrenmesi modellerini karşılaştırarak en iyi performansı gösteren modeli belirlemeyi amaçlar. Sonuç olarak, hangi modelin seçileceği, belirli bir değerlendirme metriğine göre karar verilmelidir. Bu metrik genellikle doğruluk skoru (accuracy), F1 skoru, precision, recall gibi değerlerdir.\r\n",
    "\r\n",
    "### Model Eğitim Sürecinin Sonucu:\r\n",
    "- **SVM (Support Vector Machine):** Genellikle yüksek doğruluk sağlar ve sınıflar arasında net ayrım yapabilir. Ancak, büyük veri setlerinde eğitim süresi uzun olabilir.\r\n",
    "- **Random Forest:** Birden çok karar ağacı oluşturarak çalışır ve overfitting'e karşı dayanıklıdır. Çoğu zaman iyi genel performans gösterir.\r\n",
    "- **XGBoost:** Güçlü bir boosting algoritmasıdır ve genellikle karmaşık veri setlerinde en iyi sonuçları verir. Ancak, modelin karmaşıklığı ve eğitim süresi daha yüksektir.\r\n",
    "- **Decision Tree:** Yorumlaması kolaydır ve hızlı çalışır, ancak tek bir ağaç overfitting'e meyilli olabilir.\r\n",
    "- **KNN (K-Nearest Neighbors):** Basit bir modeldir ve küçük veri setlerinde iyi çalışabilir, ancak büyük veri setlerinde performansı düşebilir.\r\n",
    "- **Naive Bayes:** Özellikle metin sınıflandırma gibi belirli görevlerde çok hızlı ve etkili olabilir, ancak varsayımları nedeniyle diğer görevlerde performansı düşük olabilir.\r\n",
    "- **LightGBM:** Büyük veri setleri üzerinde hızlı ve etkili sonuçlar verebilir. XGBoost'a benzer, ancak genellikle daha hızlıdır.\r\n",
    "\r\n",
    "### En İyi Modelin Seçilmesi:\r\n",
    "1. **Doğruluk Skorları (Accuracy):** Eğer hedef sınıflar dengeli ise (yani, veri setinde pozitif ve negatif örnekler hemen hemen eşit sayıda ise), doğruluk skoru iyi bir seçim kriteri olabilir. Bu durumda en yüksek doğruluk skoruna sahip model seçilebilir.\r\n",
    "\r\n",
    "2. **F1 Skoru:** Eğer sınıflar dengesiz ise (örneğin, pozitif örneklerin sayısı negatiflere göre çok az ise), F1 skoru dikkate alınmalıdır. F1 skoru, precision ve recall'un harmonik ortalamasıdır ve dengesiz sınıflarda daha doğru bir performans değerlendirmesi sunar.\r\n",
    "\r\n",
    "3. **Diğer Metri̇kler:** Precision, recall gibi diğer metrikler de spesifik durumlara bağlı olarak değerlendirilebilir. Örneğin, yanlış pozitiflerin veya yanlış negatiflerin önemli olduğu durumlarda bu metriklere dikkat edilmelidir.\r\n",
    "\r\n",
    "### Karar Verme:\r\n",
    "- **En Yüksek Doğruluk Skoruna Sahip Model:** Doğruluk skorlarına baktıktan sonra, en yüksek doğruluğu sağlayan model tercih edilebilir.\r\n",
    "- **Modelin Karmaşıklığı ve Eğitim Süresi:** Eğer iki model arasında doğruluk skorları çok yakınsa, daha basit veya daha hızlı eğitilebilen model tercih edilebilir.\r\n",
    "\r\n",
    "Örneğin, eğer XGBoost modeliniz %97 doğruluk sağladıysa, ancak Random Forest %96 doğruluk sağladıysa ve eğitim süresi çok daha kısaysa, Random Forest'ı seçmek makul olabilir.\r\n",
    "\r\n",
    "Sonuç olarak, en iyi modeli seçerken performans metriklerine ve uygulama bağlamına dikkat edilmelidir. Doğruluk, F1 skoru gibi metrikler arasında bir denge kurarak en uygun modeli seçebilirsiniz."
   ]
  },
  {
   "cell_type": "markdown",
   "id": "98ac3a31-9268-4b7b-95dd-20d3e75ce7ce",
   "metadata": {},
   "source": [
    "# SEÇİLEN MODEL : SVM #"
   ]
  },
  {
   "cell_type": "code",
   "execution_count": 30,
   "id": "652caddc-d90f-4029-8723-32894354e91b",
   "metadata": {},
   "outputs": [],
   "source": [
    "#CONFUSSION MATRIX EKLE İYİ OLUR ?????????????????????????????????????????????????????????"
   ]
  },
  {
   "cell_type": "markdown",
   "id": "8d74d8cf-0d3e-4dec-b0da-ba5026832787",
   "metadata": {},
   "source": [
    "**Büyük Veri Seti ve Küçük Veri Seti** kavramları genellikle veri analizi, makine öğrenimi ve büyük veri alanlarında kullanılır ve verinin hacmine, karmaşıklığına ve analiz edilme şekline bağlıdır. Bu terimler, belirli bir sayısal eşik anlamına gelmez; daha ziyade, bağlama bağlı olarak değişir. Ancak, genel bir kılavuz olarak aşağıdaki örnekleri inceleyebiliriz:\r\n",
    "\r\n",
    "### 1. Büyük Veri Seti Örneği\r\n",
    "Büyük veri setleri genellikle milyonlarca, hatta milyarlarca veri noktasından oluşur. Bu tür veri setleri genellikle birden fazla kaynak veya sensörden gelen verileri içerir, çoklu boyutlara (özelliklere) sahiptir ve işlemekte zorluk yaratabilir.\r\n",
    "\r\n",
    "#### Örnek: Online Perakende Satış Veri Seti\r\n",
    "- **Kayıt Sayısı:** 1 milyondan fazla satır (veri noktası).\r\n",
    "- **Özellik Sayısı:** 20-50 (örneğin, ürün kimliği, kullanıcı kimliği, satın alma tarihi, miktar, fiyat, vb.).\r\n",
    "- **Hacim:** Birkaç gigabayt veya daha fazla.\r\n",
    "- **Kullanım Durumları:** Tavsiye sistemleri, müşteri segmentasyonu, satış tahmini.\r\n",
    "\r\n",
    "#### Örnek: YouTube İzlenme Kayıtları\r\n",
    "- **Kayıt Sayısı:** 100 milyondan fazla satır.\r\n",
    "- **Özellik Sayısı:** 10-20 (örneğin, video kimliği, kullanıcı kimliği, izlenme süresi, cihaz türü, izlenme zamanı, vb.).\r\n",
    "- **Hacim:** Terabayt düzeyinde.\r\n",
    "- **Kullanım Durumları:** Kullanıcı davranışı analizi, kişiselleştirilmiş öneriler, içerik optimizasyonu.\r\n",
    "\r\n",
    "### 2. Küçük Veri Seti Örneği\r\n",
    "Küçük veri setleri, genellikle birkaç yüz veya birkaç bin veri noktası içerir. Bu veri setleri, sınırlı boyutta olup genellikle hızlı ve kolayca analiz edilebilir.\r\n",
    "\r\n",
    "#### Örnek: Iris Çiçek Veri Seti\r\n",
    "- **Kayıt Sayısı:** 150 satır.\r\n",
    "- **Özellik Sayısı:** 4 (örneğin, taç yaprağı uzunluğu, taç yaprağı genişliği, çanak yaprağı uzunluğu, çanak yaprağı genişliği).\r\n",
    "- **Hacim:** Kilobayt düzeyinde.\r\n",
    "- **Kullanım Durumları:** Eğitim amaçlı veri analizi, temel sınıflandırma algoritmalarının test edilmesi.\r\n",
    "\r\n",
    "#### Örnek: Öğrenci Başarı Durumu Veri Seti\r\n",
    "- **Kayıt Sayısı:** 395 satır.\r\n",
    "- **Özellik Sayısı:** 33 (örneğin, cinsiyet, yaş, anne-baba eğitimi, ders notları, okul katılımı, vb.).\r\n",
    "- **Hacim:** Kilobayt düzeyinde.\r\n",
    "- **Kullanım Durumları:** Öğrenci performans analizi, regresyon ve sınıflandırma modellerinin eğitilmesi.\r\n",
    "\r\n",
    "### Hangi Veri Seti Ne Zaman Kullanılır?\r\n",
    "- **Büyük Veri Setleri:** Makine öğrenimi modelleri eğitmek için veya derin öğrenme uygulamaları için daha uygun olabilirler. Ayrıca, büyük veri setleri genellikle gerçek dünya problemlerini daha iyi yansıtır.\r\n",
    "- **Küçük Veri Setleri:** Hızlı prototipleme, eğitim, ve algoritma geliştirme aşamalarında kullanılır. Ayrıca, küçük veri setleri daha az karmaşıktır ve daha kolay analiz edilebilir.\r\n",
    "\r\n",
    "Veri setlerinin boyutları uygulama alanına göre önemli ölçüde değişebilir. Büyük veri setleri daha fazla bilgi içerebilir, ancak işlenmesi daha zor olabilir; küçük veri setleri ise daha az bilgi sağlar, ancak daha hızlı ve kolay analiz edilebilir."
   ]
  },
  {
   "cell_type": "code",
   "execution_count": null,
   "id": "ff47ad11-52ca-4b70-9ecf-214ba0bc0056",
   "metadata": {},
   "outputs": [],
   "source": []
  },
  {
   "cell_type": "code",
   "execution_count": null,
   "id": "0e7e52a7-d044-4ac5-b7f6-c4f629e0667a",
   "metadata": {},
   "outputs": [],
   "source": []
  }
 ],
 "metadata": {
  "kernelspec": {
   "display_name": "Python 3 (ipykernel)",
   "language": "python",
   "name": "python3"
  },
  "language_info": {
   "codemirror_mode": {
    "name": "ipython",
    "version": 3
   },
   "file_extension": ".py",
   "mimetype": "text/x-python",
   "name": "python",
   "nbconvert_exporter": "python",
   "pygments_lexer": "ipython3",
   "version": "3.12.4"
  }
 },
 "nbformat": 4,
 "nbformat_minor": 5
}
