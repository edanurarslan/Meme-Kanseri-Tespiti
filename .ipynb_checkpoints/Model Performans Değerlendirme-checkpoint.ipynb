{
 "cells": [
  {
   "cell_type": "markdown",
   "id": "f75bb25a-79f4-4718-8752-806379e6bcdc",
   "metadata": {},
   "source": [
    "#### *5) Model Performans Değerlendirme*"
   ]
  },
  {
   "cell_type": "markdown",
   "id": "b5d50917-d447-442b-b266-933476ddbec6",
   "metadata": {},
   "source": [
    "**Veri setinin okunması  ve kütüphanelerin içe aktarımı :**"
   ]
  },
  {
   "cell_type": "code",
   "execution_count": 24,
   "id": "fbbec4c2-7342-48fa-bcb4-393b7d384ae0",
   "metadata": {},
   "outputs": [],
   "source": [
    "import pandas as pd\n",
    "import numpy as np\n",
    "import matplotlib.pyplot as plt\n",
    "from sklearn.model_selection import train_test_split, cross_val_score\n",
    "from sklearn.preprocessing import StandardScaler\n",
    "from sklearn.svm import SVC\n",
    "from sklearn.metrics import accuracy_score, classification_report, confusion_matrix, roc_auc_score, roc_curve\n",
    "\n",
    "# Veri setini yükleme\n",
    "df = pd.read_csv('breast-cancer.csv')"
   ]
  },
  {
   "cell_type": "markdown",
   "id": "3df2dd66-7e9b-4dc0-aac2-813532c9cc00",
   "metadata": {},
   "source": [
    "**Eğitim ve test veri setinin oluşturulması ile ölçeklendirme yapılması :**"
   ]
  },
  {
   "cell_type": "code",
   "execution_count": 26,
   "id": "0c8bf126-a516-430d-8a4b-2a3ee348a302",
   "metadata": {},
   "outputs": [],
   "source": [
    "# Bağımlı ve bağımsız değişkenlerin seçimi\n",
    "X = df.drop(columns=['id', 'diagnosis'])  # id sütunu çıkarıldı, diagnosis hedef değişken olarak belirlendi\n",
    "y = df['diagnosis']  # hedef değişken\n",
    "\n",
    "# Veri setini eğitim ve test olarak ayırma\n",
    "X_train, X_test, y_train, y_test = train_test_split(X, y, test_size=0.3, random_state=42)\n",
    "\n",
    "# Özellikleri ölçeklendirme\n",
    "scaler = StandardScaler()\n",
    "X_train = scaler.fit_transform(X_train)\n",
    "X_test = scaler.transform(X_test)"
   ]
  },
  {
   "cell_type": "markdown",
   "id": "64b3b717-cdd9-4ba7-8d4d-330c5f5e6eda",
   "metadata": {},
   "source": [
    "**Kullanılan model : Destek Vektör Makineleri (SVM)**"
   ]
  },
  {
   "cell_type": "code",
   "execution_count": 65,
   "id": "82e9cc54-d80a-444a-97b3-59897fbeedb9",
   "metadata": {},
   "outputs": [
    {
     "name": "stdout",
     "output_type": "stream",
     "text": [
      "SVM Doğruluk Skoru:  0.9766081871345029\n",
      "Classification Report:\n",
      "               precision    recall  f1-score   support\n",
      "\n",
      "           B       0.98      0.98      0.98       108\n",
      "           M       0.97      0.97      0.97        63\n",
      "\n",
      "    accuracy                           0.98       171\n",
      "   macro avg       0.97      0.97      0.97       171\n",
      "weighted avg       0.98      0.98      0.98       171\n",
      "\n"
     ]
    }
   ],
   "source": [
    "svm_model = SVC()\n",
    "svm_model.fit(X_train, y_train)\n",
    "\n",
    "# Tahmin ve değerlendirme\n",
    "y_pred_svm = svm_model.predict(X_test)\n",
    "accuracy_svm = accuracy_score(y_test, y_pred_svm)\n",
    "print(\"SVM Doğruluk Skoru: \", accuracy_svm)\n",
    "\n",
    "# Classification Report\n",
    "print(\"Classification Report:\\n\", classification_report(y_test, y_pred_svm))"
   ]
  },
  {
   "cell_type": "markdown",
   "id": "ef2f89a3-f6cc-4df7-8987-1bca5e2598eb",
   "metadata": {},
   "source": [
    "**Test seti üzerinde model performansının değerlendirilmesi :**\n",
    "\n",
    "Modeli eğittikten sonra, test veri seti üzerinde modelin performansını değerlendiririz. Bu, modelin yeni ve hiç görmediği veriler üzerinde ne kadar iyi performans gösterdiğini anlamamıza yardımcı olur.\n",
    "\n",
    "(SİLİNEBİLİR)"
   ]
  },
  {
   "cell_type": "markdown",
   "id": "92aa733a-2b2a-4a72-84d9-9715446bef17",
   "metadata": {},
   "source": [
    "düzenlenecek 1"
   ]
  },
  {
   "cell_type": "code",
   "execution_count": 68,
   "id": "4a763cd8-379b-4a5f-b67c-82e7d5df1e10",
   "metadata": {},
   "outputs": [],
   "source": [
    "best_model = svm_model"
   ]
  },
  {
   "cell_type": "code",
   "execution_count": 70,
   "id": "f8ea14c7-5141-4741-a342-8b50fe443e35",
   "metadata": {},
   "outputs": [
    {
     "name": "stdout",
     "output_type": "stream",
     "text": [
      "Test Seti Doğruluk Skoru:  0.9766081871345029\n",
      "Confusion Matrix:\n",
      " [[106   2]\n",
      " [  2  61]]\n"
     ]
    }
   ],
   "source": [
    "# Test seti üzerinde tahminler yapma\n",
    "y_pred = best_model.predict(X_test)\n",
    "\n",
    "# Doğruluk skorunu hesaplama\n",
    "accuracy = accuracy_score(y_test, y_pred)\n",
    "print(f\"Test Seti Doğruluk Skoru: {accuracy: }\")\n",
    "\n",
    "# Confusion Matrix\n",
    "conf_matrix = confusion_matrix(y_test, y_pred)\n",
    "print(\"Confusion Matrix:\\n\", conf_matrix)"
   ]
  },
  {
   "cell_type": "markdown",
   "id": "2d126911-2ad4-46dd-a821-eb1e116f21d9",
   "metadata": {},
   "source": [
    "**K-Fold Cross Validation ile modelin genel performansının incelenmesi :**\n",
    "\n",
    "K-Fold Cross Validation, veriyi K eşit parçaya böler ve her parçada modeli eğitip test eder. Bu, modelin farklı veri alt kümelerinde nasıl performans gösterdiğini anlamamıza yardımcı olur ve modelin genelleme yeteneğini değerlendirir.\n",
    "\n",
    "(SİLİNEBİLİR BURASI)"
   ]
  },
  {
   "cell_type": "code",
   "execution_count": 85,
   "id": "7cb5f18e-9b6d-47bc-a98a-3cd5a5b2a965",
   "metadata": {},
   "outputs": [
    {
     "name": "stdout",
     "output_type": "stream",
     "text": [
      "10-Fold Cross Validation Ortalama Doğruluk Skoru: 0.913878\n",
      "10-Fold Cross Validation Standart Sapma: 0.028787\n"
     ]
    }
   ],
   "source": [
    "# K-Fold Cross Validation\n",
    "k = 10\n",
    "cv_scores = cross_val_score(best_model, X, y, cv=k)\n",
    "\n",
    "# K-Fold Cross Validation sonuçlarının ortalamasını ve standart sapmasını hesaplama\n",
    "print(f\"{k}-Fold Cross Validation Ortalama Doğruluk Skoru: {cv_scores.mean():.6f}\")\n",
    "print(f\"{k}-Fold Cross Validation Standart Sapma: {cv_scores.std():.6f}\")"
   ]
  },
  {
   "cell_type": "markdown",
   "id": "606cacdb-29e7-4ef3-b16d-48696a101c47",
   "metadata": {},
   "source": [
    "**ROC-AUC, Precision, Recall, F1 Score gibi metri̇klerin kullanılması :**\n",
    "\n",
    "Bu metrikler modelin başarısını daha ayrıntılı bir şekilde değerlendirmemizi sağlar.\n",
    "\n",
    "ROC-AUC (Receiver Operating Characteristic - Area Under Curve): Modelin sınıflandırma yeteneğini değerlendirmek için kullanılan bir metri̇ktir. \n",
    "ROC eğrisi, pozitif ve negatif örnekleri ne kadar iyi ayırabildiğimizi gösterir."
   ]
  },
  {
   "cell_type": "markdown",
   "id": "c0b8307f-720b-4c1a-b927-9340c1038cdc",
   "metadata": {},
   "source": [
    "**GENEL AÇIKLAMA**\n",
    "\n",
    "1. **Precision (Hassasiyet):**\n",
    "   - **Anlamı:** Precision, modelin doğru pozitif tahminlerinin (TP) tüm pozitif tahminlere (TP + FP) oranıdır. Yani, modelin \"Pozitif\" olarak tahmin ettiği örneklerin ne kadarının gerçekten pozitif olduğunu gösterir.\n",
    "   - **Formül:** \\(\\text{Precision} = \\frac{\\text{TP}}{\\text{TP} + \\text{FP}}\\)\n",
    "   - **Örnek:** Eğer precision 0.90 ise, bu modelin pozitif olarak tahmin ettiği örneklerin %90'ının gerçekten pozitif olduğunu gösterir.\n",
    "\n",
    "2. **Recall (Duyarlılık ya da Hatırlama):**\n",
    "   - **Anlamı:** Recall, modelin doğru pozitif tahminlerinin (TP) tüm gerçek pozitiflere (TP + FN) oranıdır. Yani, gerçekte pozitif olan örneklerin ne kadarını doğru bir şekilde yakaladığını gösterir.\n",
    "   - **Formül:** \\(\\text{Recall} = \\frac{\\text{TP}}{\\text{TP} + \\text{FN}}\\)\n",
    "   - **Örnek:** Eğer recall 0.85 ise, bu modelin gerçek pozitif örneklerin %85'ini doğru tahmin ettiğini gösterir.\n",
    "\n",
    "3. **F1 Score:**\n",
    "   - **Anlamı:** F1 skoru, precision ve recall'un harmonik ortalamasıdır. Modelin dengesini gösterir ve özellikle dengesiz veri setlerinde kullanışlıdır.\n",
    "   - **Formül:** \\(\\text{F1 Score} = 2 \\times \\frac{\\text{Precision} \\times \\text{Recall}}{\\text{Precision} + \\text{Recall}}\\)\n",
    "   - **Örnek:** Eğer F1 skoru 0.87 ise, bu precision ve recall arasında iyi bir denge olduğunu gösterir.\n",
    "\n",
    "4. **Support:**\n",
    "   - **Anlamı:** Support, her bir sınıf için veri setinde bulunan gerçek örneklerin sayısını gösterir. Bu, modelin değerlendirilmesi için sınıf dağılımının önemli olduğunu belirtir.\n",
    "   - **Örnek:** Eğer support değeri 100 ise, bu sınıf için veri setinde 100 gerçek örnek bulunduğunu gösterir.\n",
    "\n",
    "5. **Accuracy (Doğruluk):**\n",
    "   - **Anlamı:** Accuracy, doğru tahmin edilen örneklerin toplam test örneklerine oranıdır. Tüm sınıfların genel doğruluğunu gösterir.\n",
    "   - **Formül:** \\(\\text{Accuracy} = \\frac{\\text{TP} + \\text{TN}}{\\text{TP} + \\text{TN} + \\text{FP} + \\text{FN}}\\)\n",
    "   - **Örnek:** Eğer accuracy 0.92 ise, bu modelin test verisinin %92'sini doğru tahmin ettiğini gösterir.\n",
    "\n",
    "Bu metrikler, modelinizin nasıl performans gösterdiğini anlamanızı sağlar. Precision ve recall arasındaki dengeyi yakalamak ve modelin doğruluğunu optimize etmek için bu değerleri dikkatle değerlendirmeniz gerekir."
   ]
  },
  {
   "cell_type": "code",
   "execution_count": 95,
   "id": "f7c2f2b0-fa83-41fd-a700-f6d769f579c7",
   "metadata": {},
   "outputs": [
    {
     "name": "stdout",
     "output_type": "stream",
     "text": [
      "Precision: 0.968254\n",
      "Recall: 0.968254\n",
      "F1 Score: 0.968254\n"
     ]
    },
    {
     "data": {
      "image/png": "[encoded data removed]",
      "text/plain": [
       "<Figure size 800x600 with 1 Axes>"
      ]
     },
     "metadata": {},
     "output_type": "display_data"
    }
   ],
   "source": [
    "# Precision, Recall, F1 Score hesaplama\n",
    "precision = precision_score(y_test, y_pred, pos_label='M')\n",
    "recall = recall_score(y_test, y_pred, pos_label='M')\n",
    "f1 = f1_score(y_test, y_pred, pos_label='M')\n",
    "\n",
    "print(f\"Precision: {precision:.6f}\")\n",
    "print(f\"Recall: {recall:.6f}\")\n",
    "print(f\"F1 Score: {f1:.6f}\")\n",
    "\n",
    "# ROC-AUC Score ve ROC Curve\n",
    "if hasattr(best_model, \"predict_proba\"):\n",
    "    y_pred_prob = best_model.predict_proba(X_test)[:, 1]\n",
    "elif hasattr(best_model, \"decision_function\"):\n",
    "    y_pred_prob = best_model.decision_function(X_test)\n",
    "else:\n",
    "    raise AttributeError(\"Model predict_proba veya decision_function yöntemlerine sahip değil.\")\n",
    "\n",
    "roc_auc = roc_auc_score(y_test.map({'B': 0, 'M': 1}), y_pred_prob)\n",
    "fpr, tpr, thresholds = roc_curve(y_test.map({'B': 0, 'M': 1}), y_pred_prob)\n",
    "\n",
    "plt.figure(figsize=(8, 6))\n",
    "plt.plot(fpr, tpr, label=f'ROC Curve (AUC = {roc_auc:.6f})')\n",
    "plt.plot([0, 1], [0, 1], 'k--')  # Random classifier line\n",
    "plt.xlabel('False Positive Rate')\n",
    "plt.ylabel('True Positive Rate')\n",
    "plt.title('ROC Curve')\n",
    "plt.legend(loc='best')\n",
    "plt.show()"
   ]
  },
  {
   "cell_type": "markdown",
   "id": "f399b153-d16b-481c-9392-ba4f407d2870",
   "metadata": {},
   "source": [
    "Ortaya çıkan ROC eğrisi (Receiver Operating Characteristic Curve), modelinizin sınıflandırma performansını farklı eşik değerleri için değerlendirmenize olanak tanır. ROC eğrisi, True Positive Rate (TPR) yani Recall ve False Positive Rate (FPR) yani (1 - Specificity) arasındaki ilişkiyi gösterir.\n",
    "\n",
    "**ROC Eğrisini Yorumlama Adımları:**\n",
    "\n",
    "1. **Eğrinin Şekli:**\n",
    "   - Eğri, sol üst köşeye ne kadar yakınsa, model o kadar iyi performans gösterir.\n",
    "   - Sol üst köşe (0, 1) noktası, maksimum TPR ve minimum FPR’yi temsil eder. Bu, ideal bir sınıflandırıcıdır.\n",
    "   - Eğri, diyagonalin (0, 0) ile (1, 1) arasındaki rastgele bir sınıflandırıcıyı temsil eden çizgiden ne kadar uzaksa, model o kadar iyidir.\n",
    "\n",
    "2. **AUC (Area Under the Curve) Skoru:**\n",
    "   - AUC skoru, ROC eğrisinin altında kalan alanı ifade eder ve modelin genel sınıflandırma yeteneğini gösterir.\n",
    "   - AUC değeri 0.5 ise, modeliniz rastgele sınıflandırma yapıyor demektir.\n",
    "   - AUC değeri 1’e yaklaştıkça, modelin performansı artar. 1’e yakın AUC değerleri, mükemmel bir sınıflandırıcıyı işaret eder.\n",
    "\n",
    "3. **Pratik Sonuçlar:**\n",
    "   - Yüksek TPR ve düşük FPR oranı, modelin hem doğru pozitifleri yakalama hem de yanlış pozitiflerden kaçınma konusunda başarılı olduğunu gösterir.\n",
    "   - ROC eğrisinin altında kalan alanın (AUC) büyük olması, modelin genel olarak daha iyi bir performansa sahip olduğunu gösterir.\n",
    "\n",
    "**Örnek Yorum:**\n",
    "- Eğer ROC eğrisi, sol üst köşeye yakın ve AUC skoru 0.9 veya üzerindeyse, modeliniz oldukça iyi bir sınıflandırma performansı gösteriyor demektir.\n",
    "- Eğri, 45 derece diyagonale yakınsa ve AUC skoru 0.5 civarındaysa, modeliniz rastgele tahmin yapıyor ve düşük performans gösteriyor olabilir.\n",
    "\n",
    "Bu tür bir analiz, modelin genel performansını değerlendirmek ve hangi eşik değerinin kullanılacağına karar vermek için çok yararlıdır. Ayrıca, modelinizin gerçek hayattaki uygulamalarda nasıl davranacağını tahmin etmenize de yardımcı olur."
   ]
  },
  {
   "cell_type": "markdown",
   "id": "73aebfc3-6565-48cc-a933-d56f230a9e0d",
   "metadata": {},
   "source": [
    "**Açıklamalar:**\n",
    "\n",
    "cross_val_score: K-Fold Cross Validation kullanarak modelin ortalama doğruluk skoru ve standart sapmasını hesaplar.\n",
    "\n",
    "roc_auc_score: ROC eğrisi altında kalan alanı hesaplar, bu modelin sınıflandırma yeteneğinin bir ölçüsüdür.\n",
    "\n",
    "roc_curve: ROC eğrisini çizer ve pozitif örnekleri ayırmada modelin başarısını gösterir.\n",
    "\n",
    "**Sonuç:**\n",
    "Bu metrikleri kullanarak modelin test seti üzerindeki performansını değerlendirebilir ve K-Fold Cross Validation ile genel performansı hakkında daha kapsamlı bir görüş elde edebilirsiniz. Elde edilen metriklere göre, modelin ne kadar iyi çalıştığını ve hangi alanlarda iyileştirmeler yapılması gerektiğini anlayabilirsiniz."
   ]
  },
  {
   "cell_type": "code",
   "execution_count": null,
   "id": "c160009d-2dd3-4e8f-b17a-89eae2ad6036",
   "metadata": {},
   "outputs": [],
   "source": []
  }
 ],
 "metadata": {
  "kernelspec": {
   "display_name": "Python 3 (ipykernel)",
   "language": "python",
   "name": "python3"
  },
  "language_info": {
   "codemirror_mode": {
    "name": "ipython",
    "version": 3
   },
   "file_extension": ".py",
   "mimetype": "text/x-python",
   "name": "python",
   "nbconvert_exporter": "python",
   "pygments_lexer": "ipython3",
   "version": "3.12.4"
  }
 },
 "nbformat": 4,
 "nbformat_minor": 5
}
